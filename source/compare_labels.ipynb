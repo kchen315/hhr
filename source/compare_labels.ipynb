{
 "cells": [
  {
   "cell_type": "code",
   "execution_count": 2,
   "metadata": {},
   "outputs": [],
   "source": [
    "import pandas as pd\n",
    "import numpy as np"
   ]
  },
  {
   "cell_type": "code",
   "execution_count": 4,
   "metadata": {},
   "outputs": [
    {
     "name": "stderr",
     "output_type": "stream",
     "text": [
      "/home/kchen/.local/lib/python3.8/site-packages/openpyxl/worksheet/_reader.py:312: UserWarning: Data Validation extension is not supported and will be removed\n",
      "  warn(msg)\n"
     ]
    }
   ],
   "source": [
    "labels_gold = pd.read_excel('../data/phases/phases_gold.xlsx')\n",
    "labels = pd.read_excel('../data/phases/phases.xlsx')"
   ]
  },
  {
   "cell_type": "code",
   "execution_count": 7,
   "metadata": {},
   "outputs": [
    {
     "data": {
      "text/plain": [
       "vid_1    41\n",
       "vid_0    32\n",
       "vid_4    19\n",
       "vid_5    18\n",
       "Name: vid_id, dtype: int64"
      ]
     },
     "execution_count": 7,
     "metadata": {},
     "output_type": "execute_result"
    }
   ],
   "source": [
    "labels_gold['vid_id'].value_counts()"
   ]
  },
  {
   "cell_type": "code",
   "execution_count": 8,
   "metadata": {},
   "outputs": [
    {
     "name": "stdout",
     "output_type": "stream",
     "text": [
      "(121, 12)\n"
     ]
    }
   ],
   "source": [
    "#keep only the vid_id's that are in both datasets\n",
    "labels = labels[labels['vid_id'].isin(labels_gold['vid_id'])]\n",
    "print(labels.shape)"
   ]
  },
  {
   "cell_type": "code",
   "execution_count": 9,
   "metadata": {},
   "outputs": [],
   "source": [
    "#time is in the form XXH:XXm:XXs, so we need to convert it to seconds\n",
    "def convert_time(time):\n",
    "    hours = int(time[0:2])\n",
    "    mins = int(time[4:6])\n",
    "    secs = int(time[8:10])\n",
    "    return hours*3600 + mins*60 + secs"
   ]
  },
  {
   "cell_type": "code",
   "execution_count": 10,
   "metadata": {},
   "outputs": [],
   "source": [
    "frames_gold = pd.DataFrame(columns=['vid_id', 'phase', 'second'])"
   ]
  },
  {
   "cell_type": "code",
   "execution_count": 11,
   "metadata": {},
   "outputs": [],
   "source": [
    "frames = pd.DataFrame(columns=['vid_id', 'phase', 'second'])"
   ]
  },
  {
   "cell_type": "code",
   "execution_count": 12,
   "metadata": {},
   "outputs": [
    {
     "ename": "NameError",
     "evalue": "name 'vid' is not defined",
     "output_type": "error",
     "traceback": [
      "\u001b[0;31m---------------------------------------------------------------------------\u001b[0m",
      "\u001b[0;31mNameError\u001b[0m                                 Traceback (most recent call last)",
      "\u001b[1;32m/home/kchen/Documents/hhr/source/compare_labels.ipynb Cell 8\u001b[0m in \u001b[0;36m<cell line: 1>\u001b[0;34m()\u001b[0m\n\u001b[0;32m----> <a href='vscode-notebook-cell:/home/kchen/Documents/hhr/source/compare_labels.ipynb#X11sZmlsZQ%3D%3D?line=0'>1</a>\u001b[0m vid[\u001b[39m'\u001b[39m\u001b[39mstart_time\u001b[39m\u001b[39m'\u001b[39m]\u001b[39m.\u001b[39miloc[\u001b[39m0\u001b[39m]\n",
      "\u001b[0;31mNameError\u001b[0m: name 'vid' is not defined"
     ]
    }
   ],
   "source": [
    "['start_time'].iloc[0]"
   ]
  },
  {
   "cell_type": "code",
   "execution_count": null,
   "metadata": {},
   "outputs": [],
   "source": [
    "#for each vid_id, for each second, create a row with the phase\n",
    "for vid_id in labels_gold['vid_id'].unique():\n",
    "    vid = labels_gold[labels_gold['vid_id'] == vid_id]\n",
    "    start = convert_time(vid['start_time'].iloc[0])\n",
    "    end = convert_time(vid['end_time'].iloc[0])\n",
    "    for second in range(start, end):\n",
    "        frames_gold = frames_gold.append({'vid_id': vid_id, 'phase': vid['phase'].iloc[0], 'second': second}, ignore_index=True)"
   ]
  }
 ],
 "metadata": {
  "kernelspec": {
   "display_name": "Python 3",
   "language": "python",
   "name": "python3"
  },
  "language_info": {
   "codemirror_mode": {
    "name": "ipython",
    "version": 3
   },
   "file_extension": ".py",
   "mimetype": "text/x-python",
   "name": "python",
   "nbconvert_exporter": "python",
   "pygments_lexer": "ipython3",
   "version": "3.8.10"
  },
  "orig_nbformat": 4,
  "vscode": {
   "interpreter": {
    "hash": "31f2aee4e71d21fbe5cf8b01ff0e069b9275f58929596ceb00d14d90e3e16cd6"
   }
  }
 },
 "nbformat": 4,
 "nbformat_minor": 2
}
